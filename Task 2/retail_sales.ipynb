{
 "cells": [
  {
   "cell_type": "markdown",
   "id": "feff9eba-4fbc-48bc-add6-bd76e220c820",
   "metadata": {},
   "source": [
    "## Importing libraries"
   ]
  },
  {
   "cell_type": "code",
   "execution_count": 1,
   "id": "fb070282-b12c-4ca8-acd2-44f995874237",
   "metadata": {},
   "outputs": [],
   "source": [
    "import pandas as pd\n",
    "import matplotlib.pyplot as plt\n",
    "import seaborn as sns"
   ]
  },
  {
   "cell_type": "markdown",
   "id": "55a4fe71-ae96-452e-bb13-d30cfd529a30",
   "metadata": {},
   "source": [
    "## Loading the dataset"
   ]
  },
  {
   "cell_type": "code",
   "execution_count": 2,
   "id": "daa05582-9294-4800-aa6b-7c684967cf46",
   "metadata": {},
   "outputs": [],
   "source": [
    "df = pd.read_csv('customer_shopping_data.csv')"
   ]
  },
  {
   "cell_type": "markdown",
   "id": "72d567bd-8571-4c20-aaad-54f0f3de846b",
   "metadata": {},
   "source": [
    "## Check number of rows and columns"
   ]
  },
  {
   "cell_type": "code",
   "execution_count": 3,
   "id": "8572d006-b4d5-4167-8cf5-41fd384e3c98",
   "metadata": {},
   "outputs": [
    {
     "data": {
      "text/plain": [
       "(99457, 10)"
      ]
     },
     "execution_count": 3,
     "metadata": {},
     "output_type": "execute_result"
    }
   ],
   "source": [
    "df.shape"
   ]
  },
  {
   "cell_type": "markdown",
   "id": "134968b1-f5ef-4224-9bfd-dc9ccdc4b7f1",
   "metadata": {},
   "source": [
    "## Check all columns in the dataframe"
   ]
  },
  {
   "cell_type": "code",
   "execution_count": 4,
   "id": "3177eb70-1079-4ee5-8e5c-3ce2ad0b50df",
   "metadata": {},
   "outputs": [
    {
     "data": {
      "text/plain": [
       "Index(['invoice_no', 'customer_id', 'gender', 'age', 'category', 'quantity',\n",
       "       'price', 'payment_method', 'invoice_date', 'shopping_mall'],\n",
       "      dtype='object')"
      ]
     },
     "execution_count": 4,
     "metadata": {},
     "output_type": "execute_result"
    }
   ],
   "source": [
    "df.columns"
   ]
  },
  {
   "cell_type": "markdown",
   "id": "9c8aa958-1273-4869-998f-0e14a89e2b80",
   "metadata": {},
   "source": [
    "## Access the first five rows"
   ]
  },
  {
   "cell_type": "code",
   "execution_count": 5,
   "id": "fddde820-7c27-4bb3-bfba-1916fa1c73b9",
   "metadata": {},
   "outputs": [
    {
     "data": {
      "text/html": [
       "<div>\n",
       "<style scoped>\n",
       "    .dataframe tbody tr th:only-of-type {\n",
       "        vertical-align: middle;\n",
       "    }\n",
       "\n",
       "    .dataframe tbody tr th {\n",
       "        vertical-align: top;\n",
       "    }\n",
       "\n",
       "    .dataframe thead th {\n",
       "        text-align: right;\n",
       "    }\n",
       "</style>\n",
       "<table border=\"1\" class=\"dataframe\">\n",
       "  <thead>\n",
       "    <tr style=\"text-align: right;\">\n",
       "      <th></th>\n",
       "      <th>invoice_no</th>\n",
       "      <th>customer_id</th>\n",
       "      <th>gender</th>\n",
       "      <th>age</th>\n",
       "      <th>category</th>\n",
       "      <th>quantity</th>\n",
       "      <th>price</th>\n",
       "      <th>payment_method</th>\n",
       "      <th>invoice_date</th>\n",
       "      <th>shopping_mall</th>\n",
       "    </tr>\n",
       "  </thead>\n",
       "  <tbody>\n",
       "    <tr>\n",
       "      <th>0</th>\n",
       "      <td>I138884</td>\n",
       "      <td>C241288</td>\n",
       "      <td>Female</td>\n",
       "      <td>28</td>\n",
       "      <td>Clothing</td>\n",
       "      <td>5</td>\n",
       "      <td>1500.40</td>\n",
       "      <td>Credit Card</td>\n",
       "      <td>5/8/2022</td>\n",
       "      <td>Kanyon</td>\n",
       "    </tr>\n",
       "    <tr>\n",
       "      <th>1</th>\n",
       "      <td>I317333</td>\n",
       "      <td>C111565</td>\n",
       "      <td>Male</td>\n",
       "      <td>21</td>\n",
       "      <td>Shoes</td>\n",
       "      <td>3</td>\n",
       "      <td>1800.51</td>\n",
       "      <td>Debit Card</td>\n",
       "      <td>12/12/2021</td>\n",
       "      <td>Forum Istanbul</td>\n",
       "    </tr>\n",
       "    <tr>\n",
       "      <th>2</th>\n",
       "      <td>I127801</td>\n",
       "      <td>C266599</td>\n",
       "      <td>Male</td>\n",
       "      <td>20</td>\n",
       "      <td>Clothing</td>\n",
       "      <td>1</td>\n",
       "      <td>300.08</td>\n",
       "      <td>Cash</td>\n",
       "      <td>9/11/2021</td>\n",
       "      <td>Metrocity</td>\n",
       "    </tr>\n",
       "    <tr>\n",
       "      <th>3</th>\n",
       "      <td>I173702</td>\n",
       "      <td>C988172</td>\n",
       "      <td>Female</td>\n",
       "      <td>66</td>\n",
       "      <td>Shoes</td>\n",
       "      <td>5</td>\n",
       "      <td>3000.85</td>\n",
       "      <td>Credit Card</td>\n",
       "      <td>16/05/2021</td>\n",
       "      <td>Metropol AVM</td>\n",
       "    </tr>\n",
       "    <tr>\n",
       "      <th>4</th>\n",
       "      <td>I337046</td>\n",
       "      <td>C189076</td>\n",
       "      <td>Female</td>\n",
       "      <td>53</td>\n",
       "      <td>Books</td>\n",
       "      <td>4</td>\n",
       "      <td>60.60</td>\n",
       "      <td>Cash</td>\n",
       "      <td>24/10/2021</td>\n",
       "      <td>Kanyon</td>\n",
       "    </tr>\n",
       "  </tbody>\n",
       "</table>\n",
       "</div>"
      ],
      "text/plain": [
       "  invoice_no customer_id  gender  age  category  quantity    price  \\\n",
       "0    I138884     C241288  Female   28  Clothing         5  1500.40   \n",
       "1    I317333     C111565    Male   21     Shoes         3  1800.51   \n",
       "2    I127801     C266599    Male   20  Clothing         1   300.08   \n",
       "3    I173702     C988172  Female   66     Shoes         5  3000.85   \n",
       "4    I337046     C189076  Female   53     Books         4    60.60   \n",
       "\n",
       "  payment_method invoice_date   shopping_mall  \n",
       "0    Credit Card     5/8/2022          Kanyon  \n",
       "1     Debit Card   12/12/2021  Forum Istanbul  \n",
       "2           Cash    9/11/2021       Metrocity  \n",
       "3    Credit Card   16/05/2021    Metropol AVM  \n",
       "4           Cash   24/10/2021          Kanyon  "
      ]
     },
     "execution_count": 5,
     "metadata": {},
     "output_type": "execute_result"
    }
   ],
   "source": [
    "df.head()"
   ]
  },
  {
   "cell_type": "markdown",
   "id": "fba12363-79f9-410b-b5bc-e3f9e626add8",
   "metadata": {},
   "source": [
    "# 1. Data Cleaning "
   ]
  },
  {
   "cell_type": "markdown",
   "id": "e3e337f7-daf6-411e-839e-22ecb6399ca0",
   "metadata": {},
   "source": [
    "## Check the missing values in the dataframe"
   ]
  },
  {
   "cell_type": "code",
   "execution_count": 6,
   "id": "040dfc25-6108-4378-80db-abbe802020a0",
   "metadata": {},
   "outputs": [
    {
     "data": {
      "text/html": [
       "<div>\n",
       "<style scoped>\n",
       "    .dataframe tbody tr th:only-of-type {\n",
       "        vertical-align: middle;\n",
       "    }\n",
       "\n",
       "    .dataframe tbody tr th {\n",
       "        vertical-align: top;\n",
       "    }\n",
       "\n",
       "    .dataframe thead th {\n",
       "        text-align: right;\n",
       "    }\n",
       "</style>\n",
       "<table border=\"1\" class=\"dataframe\">\n",
       "  <thead>\n",
       "    <tr style=\"text-align: right;\">\n",
       "      <th></th>\n",
       "      <th>invoice_no</th>\n",
       "      <th>customer_id</th>\n",
       "      <th>gender</th>\n",
       "      <th>age</th>\n",
       "      <th>category</th>\n",
       "      <th>quantity</th>\n",
       "      <th>price</th>\n",
       "      <th>payment_method</th>\n",
       "      <th>invoice_date</th>\n",
       "      <th>shopping_mall</th>\n",
       "    </tr>\n",
       "  </thead>\n",
       "  <tbody>\n",
       "    <tr>\n",
       "      <th>0</th>\n",
       "      <td>False</td>\n",
       "      <td>False</td>\n",
       "      <td>False</td>\n",
       "      <td>False</td>\n",
       "      <td>False</td>\n",
       "      <td>False</td>\n",
       "      <td>False</td>\n",
       "      <td>False</td>\n",
       "      <td>False</td>\n",
       "      <td>False</td>\n",
       "    </tr>\n",
       "    <tr>\n",
       "      <th>1</th>\n",
       "      <td>False</td>\n",
       "      <td>False</td>\n",
       "      <td>False</td>\n",
       "      <td>False</td>\n",
       "      <td>False</td>\n",
       "      <td>False</td>\n",
       "      <td>False</td>\n",
       "      <td>False</td>\n",
       "      <td>False</td>\n",
       "      <td>False</td>\n",
       "    </tr>\n",
       "    <tr>\n",
       "      <th>2</th>\n",
       "      <td>False</td>\n",
       "      <td>False</td>\n",
       "      <td>False</td>\n",
       "      <td>False</td>\n",
       "      <td>False</td>\n",
       "      <td>False</td>\n",
       "      <td>False</td>\n",
       "      <td>False</td>\n",
       "      <td>False</td>\n",
       "      <td>False</td>\n",
       "    </tr>\n",
       "    <tr>\n",
       "      <th>3</th>\n",
       "      <td>False</td>\n",
       "      <td>False</td>\n",
       "      <td>False</td>\n",
       "      <td>False</td>\n",
       "      <td>False</td>\n",
       "      <td>False</td>\n",
       "      <td>False</td>\n",
       "      <td>False</td>\n",
       "      <td>False</td>\n",
       "      <td>False</td>\n",
       "    </tr>\n",
       "    <tr>\n",
       "      <th>4</th>\n",
       "      <td>False</td>\n",
       "      <td>False</td>\n",
       "      <td>False</td>\n",
       "      <td>False</td>\n",
       "      <td>False</td>\n",
       "      <td>False</td>\n",
       "      <td>False</td>\n",
       "      <td>False</td>\n",
       "      <td>False</td>\n",
       "      <td>False</td>\n",
       "    </tr>\n",
       "    <tr>\n",
       "      <th>...</th>\n",
       "      <td>...</td>\n",
       "      <td>...</td>\n",
       "      <td>...</td>\n",
       "      <td>...</td>\n",
       "      <td>...</td>\n",
       "      <td>...</td>\n",
       "      <td>...</td>\n",
       "      <td>...</td>\n",
       "      <td>...</td>\n",
       "      <td>...</td>\n",
       "    </tr>\n",
       "    <tr>\n",
       "      <th>99452</th>\n",
       "      <td>False</td>\n",
       "      <td>False</td>\n",
       "      <td>False</td>\n",
       "      <td>False</td>\n",
       "      <td>False</td>\n",
       "      <td>False</td>\n",
       "      <td>False</td>\n",
       "      <td>False</td>\n",
       "      <td>False</td>\n",
       "      <td>False</td>\n",
       "    </tr>\n",
       "    <tr>\n",
       "      <th>99453</th>\n",
       "      <td>False</td>\n",
       "      <td>False</td>\n",
       "      <td>False</td>\n",
       "      <td>False</td>\n",
       "      <td>False</td>\n",
       "      <td>False</td>\n",
       "      <td>False</td>\n",
       "      <td>False</td>\n",
       "      <td>False</td>\n",
       "      <td>False</td>\n",
       "    </tr>\n",
       "    <tr>\n",
       "      <th>99454</th>\n",
       "      <td>False</td>\n",
       "      <td>False</td>\n",
       "      <td>False</td>\n",
       "      <td>False</td>\n",
       "      <td>False</td>\n",
       "      <td>False</td>\n",
       "      <td>False</td>\n",
       "      <td>False</td>\n",
       "      <td>False</td>\n",
       "      <td>False</td>\n",
       "    </tr>\n",
       "    <tr>\n",
       "      <th>99455</th>\n",
       "      <td>False</td>\n",
       "      <td>False</td>\n",
       "      <td>False</td>\n",
       "      <td>False</td>\n",
       "      <td>False</td>\n",
       "      <td>False</td>\n",
       "      <td>False</td>\n",
       "      <td>False</td>\n",
       "      <td>False</td>\n",
       "      <td>False</td>\n",
       "    </tr>\n",
       "    <tr>\n",
       "      <th>99456</th>\n",
       "      <td>False</td>\n",
       "      <td>False</td>\n",
       "      <td>False</td>\n",
       "      <td>False</td>\n",
       "      <td>False</td>\n",
       "      <td>False</td>\n",
       "      <td>False</td>\n",
       "      <td>False</td>\n",
       "      <td>False</td>\n",
       "      <td>False</td>\n",
       "    </tr>\n",
       "  </tbody>\n",
       "</table>\n",
       "<p>99457 rows × 10 columns</p>\n",
       "</div>"
      ],
      "text/plain": [
       "       invoice_no  customer_id  gender    age  category  quantity  price  \\\n",
       "0           False        False   False  False     False     False  False   \n",
       "1           False        False   False  False     False     False  False   \n",
       "2           False        False   False  False     False     False  False   \n",
       "3           False        False   False  False     False     False  False   \n",
       "4           False        False   False  False     False     False  False   \n",
       "...           ...          ...     ...    ...       ...       ...    ...   \n",
       "99452       False        False   False  False     False     False  False   \n",
       "99453       False        False   False  False     False     False  False   \n",
       "99454       False        False   False  False     False     False  False   \n",
       "99455       False        False   False  False     False     False  False   \n",
       "99456       False        False   False  False     False     False  False   \n",
       "\n",
       "       payment_method  invoice_date  shopping_mall  \n",
       "0               False         False          False  \n",
       "1               False         False          False  \n",
       "2               False         False          False  \n",
       "3               False         False          False  \n",
       "4               False         False          False  \n",
       "...               ...           ...            ...  \n",
       "99452           False         False          False  \n",
       "99453           False         False          False  \n",
       "99454           False         False          False  \n",
       "99455           False         False          False  \n",
       "99456           False         False          False  \n",
       "\n",
       "[99457 rows x 10 columns]"
      ]
     },
     "execution_count": 6,
     "metadata": {},
     "output_type": "execute_result"
    }
   ],
   "source": [
    "df.isna()"
   ]
  },
  {
   "cell_type": "markdown",
   "id": "89126a19-6daf-4170-9f28-905e9485a0d6",
   "metadata": {},
   "source": [
    "## Check the missing values count in the dataframe"
   ]
  },
  {
   "cell_type": "code",
   "execution_count": 7,
   "id": "fbab9a44-cf99-42e7-b73f-82e1436b3136",
   "metadata": {},
   "outputs": [
    {
     "data": {
      "text/plain": [
       "invoice_no        0\n",
       "customer_id       0\n",
       "gender            0\n",
       "age               0\n",
       "category          0\n",
       "quantity          0\n",
       "price             0\n",
       "payment_method    0\n",
       "invoice_date      0\n",
       "shopping_mall     0\n",
       "dtype: int64"
      ]
     },
     "execution_count": 7,
     "metadata": {},
     "output_type": "execute_result"
    }
   ],
   "source": [
    "df.isna().sum()"
   ]
  },
  {
   "cell_type": "markdown",
   "id": "823f6192-2131-4e3c-b07a-b0daf881b98f",
   "metadata": {},
   "source": [
    "The dataset is now free from missing entries, and it's ready for further analysis or modeling."
   ]
  },
  {
   "cell_type": "markdown",
   "id": "32079525-0b88-4f1b-bc72-0b85e66ff25a",
   "metadata": {},
   "source": [
    "## Check for duplicate rows "
   ]
  },
  {
   "cell_type": "code",
   "execution_count": 8,
   "id": "57b56f95-80b1-4345-899d-f843d2d38376",
   "metadata": {},
   "outputs": [
    {
     "data": {
      "text/plain": [
       "0        False\n",
       "1        False\n",
       "2        False\n",
       "3        False\n",
       "4        False\n",
       "         ...  \n",
       "99452    False\n",
       "99453    False\n",
       "99454    False\n",
       "99455    False\n",
       "99456    False\n",
       "Length: 99457, dtype: bool"
      ]
     },
     "execution_count": 8,
     "metadata": {},
     "output_type": "execute_result"
    }
   ],
   "source": [
    "df.duplicated()"
   ]
  },
  {
   "cell_type": "markdown",
   "id": "898eb97f-a8f5-4969-88b6-06cfebbca9ce",
   "metadata": {},
   "source": [
    "## Check the count of duplicate rows in dataframe"
   ]
  },
  {
   "cell_type": "code",
   "execution_count": 9,
   "id": "b83bd10e-6de6-424d-9389-b779d13ee48e",
   "metadata": {},
   "outputs": [
    {
     "data": {
      "text/plain": [
       "0"
      ]
     },
     "execution_count": 9,
     "metadata": {},
     "output_type": "execute_result"
    }
   ],
   "source": [
    "df.duplicated().sum()"
   ]
  },
  {
   "cell_type": "markdown",
   "id": "a801980e-ceb9-40d0-9512-6e52ae9de02f",
   "metadata": {},
   "source": [
    "There are no duplicate rows in the dataframe and no further action is needed for duplicate removal."
   ]
  },
  {
   "cell_type": "markdown",
   "id": "409d8375-4b54-4bdf-b52a-75ee2b5d7e5a",
   "metadata": {},
   "source": [
    "## Check datatype of columns"
   ]
  },
  {
   "cell_type": "code",
   "execution_count": 10,
   "id": "35a8a8da-5c8d-420d-b5b8-7da59e57f33f",
   "metadata": {},
   "outputs": [
    {
     "data": {
      "text/plain": [
       "invoice_no         object\n",
       "customer_id        object\n",
       "gender             object\n",
       "age                 int64\n",
       "category           object\n",
       "quantity            int64\n",
       "price             float64\n",
       "payment_method     object\n",
       "invoice_date       object\n",
       "shopping_mall      object\n",
       "dtype: object"
      ]
     },
     "execution_count": 10,
     "metadata": {},
     "output_type": "execute_result"
    }
   ],
   "source": [
    "df.dtypes"
   ]
  },
  {
   "cell_type": "markdown",
   "id": "270977ca-ad25-47cb-8208-2547300f254f",
   "metadata": {},
   "source": [
    "The invoice_date column is currently of type object, needs to be converted into a datetime64 data type. "
   ]
  },
  {
   "cell_type": "markdown",
   "id": "8b0211e7-bb9a-4b11-9f9d-a7f51dc8fb37",
   "metadata": {},
   "source": [
    "## Access the invoice_date column"
   ]
  },
  {
   "cell_type": "code",
   "execution_count": 11,
   "id": "cab65320-e6a7-4acd-88a6-41980dd0d335",
   "metadata": {},
   "outputs": [
    {
     "data": {
      "text/plain": [
       "0          5/8/2022\n",
       "1        12/12/2021\n",
       "2         9/11/2021\n",
       "3        16/05/2021\n",
       "4        24/10/2021\n",
       "            ...    \n",
       "99452    21/09/2022\n",
       "99453    22/09/2021\n",
       "99454    28/03/2021\n",
       "99455    16/03/2021\n",
       "99456    15/10/2022\n",
       "Name: invoice_date, Length: 99457, dtype: object"
      ]
     },
     "execution_count": 11,
     "metadata": {},
     "output_type": "execute_result"
    }
   ],
   "source": [
    "df.invoice_date"
   ]
  },
  {
   "cell_type": "markdown",
   "id": "12015e1a-5510-4723-8316-0fcaac861f32",
   "metadata": {},
   "source": [
    "## Converting invoice_date column into datetime datatype"
   ]
  },
  {
   "cell_type": "code",
   "execution_count": 12,
   "id": "3cf6b28f-a7e4-4b0a-b2df-539bb83397ab",
   "metadata": {},
   "outputs": [],
   "source": [
    "df['invoice_date'] = pd.to_datetime(df['invoice_date'], format = '%d/%m/%Y')"
   ]
  },
  {
   "cell_type": "markdown",
   "id": "71616acb-d9ab-4750-86d4-bbdbdb00b97f",
   "metadata": {},
   "source": [
    "## Now check the datatype of invoice_date column"
   ]
  },
  {
   "cell_type": "code",
   "execution_count": 13,
   "id": "29a31eb3-e96e-4792-862f-9a9f88b70521",
   "metadata": {},
   "outputs": [
    {
     "data": {
      "text/plain": [
       "0       2022-08-05\n",
       "1       2021-12-12\n",
       "2       2021-11-09\n",
       "3       2021-05-16\n",
       "4       2021-10-24\n",
       "           ...    \n",
       "99452   2022-09-21\n",
       "99453   2021-09-22\n",
       "99454   2021-03-28\n",
       "99455   2021-03-16\n",
       "99456   2022-10-15\n",
       "Name: invoice_date, Length: 99457, dtype: datetime64[ns]"
      ]
     },
     "execution_count": 13,
     "metadata": {},
     "output_type": "execute_result"
    }
   ],
   "source": [
    "df.invoice_date"
   ]
  },
  {
   "cell_type": "markdown",
   "id": "24793399-e5aa-40ac-ad7c-add09c76cfe6",
   "metadata": {},
   "source": [
    "The invoice_date column has been successfully converted to the datetime data type"
   ]
  },
  {
   "cell_type": "markdown",
   "id": "9cce891a-e1d5-4a3f-aa4c-8d9e562fa9e2",
   "metadata": {},
   "source": [
    "## Access the initial data"
   ]
  },
  {
   "cell_type": "code",
   "execution_count": 14,
   "id": "4de190cd-f380-42e5-ad13-b6f469f63d43",
   "metadata": {},
   "outputs": [
    {
     "data": {
      "text/html": [
       "<div>\n",
       "<style scoped>\n",
       "    .dataframe tbody tr th:only-of-type {\n",
       "        vertical-align: middle;\n",
       "    }\n",
       "\n",
       "    .dataframe tbody tr th {\n",
       "        vertical-align: top;\n",
       "    }\n",
       "\n",
       "    .dataframe thead th {\n",
       "        text-align: right;\n",
       "    }\n",
       "</style>\n",
       "<table border=\"1\" class=\"dataframe\">\n",
       "  <thead>\n",
       "    <tr style=\"text-align: right;\">\n",
       "      <th></th>\n",
       "      <th>invoice_no</th>\n",
       "      <th>customer_id</th>\n",
       "      <th>gender</th>\n",
       "      <th>age</th>\n",
       "      <th>category</th>\n",
       "      <th>quantity</th>\n",
       "      <th>price</th>\n",
       "      <th>payment_method</th>\n",
       "      <th>invoice_date</th>\n",
       "      <th>shopping_mall</th>\n",
       "    </tr>\n",
       "  </thead>\n",
       "  <tbody>\n",
       "    <tr>\n",
       "      <th>0</th>\n",
       "      <td>I138884</td>\n",
       "      <td>C241288</td>\n",
       "      <td>Female</td>\n",
       "      <td>28</td>\n",
       "      <td>Clothing</td>\n",
       "      <td>5</td>\n",
       "      <td>1500.40</td>\n",
       "      <td>Credit Card</td>\n",
       "      <td>2022-08-05</td>\n",
       "      <td>Kanyon</td>\n",
       "    </tr>\n",
       "    <tr>\n",
       "      <th>1</th>\n",
       "      <td>I317333</td>\n",
       "      <td>C111565</td>\n",
       "      <td>Male</td>\n",
       "      <td>21</td>\n",
       "      <td>Shoes</td>\n",
       "      <td>3</td>\n",
       "      <td>1800.51</td>\n",
       "      <td>Debit Card</td>\n",
       "      <td>2021-12-12</td>\n",
       "      <td>Forum Istanbul</td>\n",
       "    </tr>\n",
       "    <tr>\n",
       "      <th>2</th>\n",
       "      <td>I127801</td>\n",
       "      <td>C266599</td>\n",
       "      <td>Male</td>\n",
       "      <td>20</td>\n",
       "      <td>Clothing</td>\n",
       "      <td>1</td>\n",
       "      <td>300.08</td>\n",
       "      <td>Cash</td>\n",
       "      <td>2021-11-09</td>\n",
       "      <td>Metrocity</td>\n",
       "    </tr>\n",
       "    <tr>\n",
       "      <th>3</th>\n",
       "      <td>I173702</td>\n",
       "      <td>C988172</td>\n",
       "      <td>Female</td>\n",
       "      <td>66</td>\n",
       "      <td>Shoes</td>\n",
       "      <td>5</td>\n",
       "      <td>3000.85</td>\n",
       "      <td>Credit Card</td>\n",
       "      <td>2021-05-16</td>\n",
       "      <td>Metropol AVM</td>\n",
       "    </tr>\n",
       "    <tr>\n",
       "      <th>4</th>\n",
       "      <td>I337046</td>\n",
       "      <td>C189076</td>\n",
       "      <td>Female</td>\n",
       "      <td>53</td>\n",
       "      <td>Books</td>\n",
       "      <td>4</td>\n",
       "      <td>60.60</td>\n",
       "      <td>Cash</td>\n",
       "      <td>2021-10-24</td>\n",
       "      <td>Kanyon</td>\n",
       "    </tr>\n",
       "  </tbody>\n",
       "</table>\n",
       "</div>"
      ],
      "text/plain": [
       "  invoice_no customer_id  gender  age  category  quantity    price  \\\n",
       "0    I138884     C241288  Female   28  Clothing         5  1500.40   \n",
       "1    I317333     C111565    Male   21     Shoes         3  1800.51   \n",
       "2    I127801     C266599    Male   20  Clothing         1   300.08   \n",
       "3    I173702     C988172  Female   66     Shoes         5  3000.85   \n",
       "4    I337046     C189076  Female   53     Books         4    60.60   \n",
       "\n",
       "  payment_method invoice_date   shopping_mall  \n",
       "0    Credit Card   2022-08-05          Kanyon  \n",
       "1     Debit Card   2021-12-12  Forum Istanbul  \n",
       "2           Cash   2021-11-09       Metrocity  \n",
       "3    Credit Card   2021-05-16    Metropol AVM  \n",
       "4           Cash   2021-10-24          Kanyon  "
      ]
     },
     "execution_count": 14,
     "metadata": {},
     "output_type": "execute_result"
    }
   ],
   "source": [
    "df.head()"
   ]
  },
  {
   "cell_type": "markdown",
   "id": "ac9fdb3d-415c-41a2-b9cd-aa4e71b60032",
   "metadata": {},
   "source": [
    "The numerical_columns are age, quantity and price in the dataframe"
   ]
  },
  {
   "cell_type": "markdown",
   "id": "075dbd22-0641-4357-a82d-5bdc11424215",
   "metadata": {},
   "source": [
    "## Check for the outliers in the numerical_columns"
   ]
  },
  {
   "cell_type": "code",
   "execution_count": 15,
   "id": "90c2177e-f7d5-4c79-b16d-31ea1132c185",
   "metadata": {},
   "outputs": [
    {
     "data": {
      "text/html": [
       "<div>\n",
       "<style scoped>\n",
       "    .dataframe tbody tr th:only-of-type {\n",
       "        vertical-align: middle;\n",
       "    }\n",
       "\n",
       "    .dataframe tbody tr th {\n",
       "        vertical-align: top;\n",
       "    }\n",
       "\n",
       "    .dataframe thead th {\n",
       "        text-align: right;\n",
       "    }\n",
       "</style>\n",
       "<table border=\"1\" class=\"dataframe\">\n",
       "  <thead>\n",
       "    <tr style=\"text-align: right;\">\n",
       "      <th></th>\n",
       "      <th>age</th>\n",
       "      <th>quantity</th>\n",
       "      <th>price</th>\n",
       "    </tr>\n",
       "  </thead>\n",
       "  <tbody>\n",
       "    <tr>\n",
       "      <th>count</th>\n",
       "      <td>99457.000000</td>\n",
       "      <td>99457.000000</td>\n",
       "      <td>99457.000000</td>\n",
       "    </tr>\n",
       "    <tr>\n",
       "      <th>mean</th>\n",
       "      <td>43.427089</td>\n",
       "      <td>3.003429</td>\n",
       "      <td>689.256321</td>\n",
       "    </tr>\n",
       "    <tr>\n",
       "      <th>std</th>\n",
       "      <td>14.990054</td>\n",
       "      <td>1.413025</td>\n",
       "      <td>941.184567</td>\n",
       "    </tr>\n",
       "    <tr>\n",
       "      <th>min</th>\n",
       "      <td>18.000000</td>\n",
       "      <td>1.000000</td>\n",
       "      <td>5.230000</td>\n",
       "    </tr>\n",
       "    <tr>\n",
       "      <th>25%</th>\n",
       "      <td>30.000000</td>\n",
       "      <td>2.000000</td>\n",
       "      <td>45.450000</td>\n",
       "    </tr>\n",
       "    <tr>\n",
       "      <th>50%</th>\n",
       "      <td>43.000000</td>\n",
       "      <td>3.000000</td>\n",
       "      <td>203.300000</td>\n",
       "    </tr>\n",
       "    <tr>\n",
       "      <th>75%</th>\n",
       "      <td>56.000000</td>\n",
       "      <td>4.000000</td>\n",
       "      <td>1200.320000</td>\n",
       "    </tr>\n",
       "    <tr>\n",
       "      <th>max</th>\n",
       "      <td>69.000000</td>\n",
       "      <td>5.000000</td>\n",
       "      <td>5250.000000</td>\n",
       "    </tr>\n",
       "  </tbody>\n",
       "</table>\n",
       "</div>"
      ],
      "text/plain": [
       "                age      quantity         price\n",
       "count  99457.000000  99457.000000  99457.000000\n",
       "mean      43.427089      3.003429    689.256321\n",
       "std       14.990054      1.413025    941.184567\n",
       "min       18.000000      1.000000      5.230000\n",
       "25%       30.000000      2.000000     45.450000\n",
       "50%       43.000000      3.000000    203.300000\n",
       "75%       56.000000      4.000000   1200.320000\n",
       "max       69.000000      5.000000   5250.000000"
      ]
     },
     "execution_count": 15,
     "metadata": {},
     "output_type": "execute_result"
    }
   ],
   "source": [
    "numerical_columns = ['age','quantity','price']\n",
    "df[numerical_columns].describe()"
   ]
  },
  {
   "cell_type": "markdown",
   "id": "17c1847f-ef07-4162-94a0-4334aa10d08d",
   "metadata": {},
   "source": [
    "There are no significant outliers present in the dataframe, the data cleaning process has been completed. The dataset is now ready for further analysis."
   ]
  },
  {
   "cell_type": "markdown",
   "id": "3e4e917d-8636-4881-bb76-a864cbf8cf92",
   "metadata": {},
   "source": [
    "# 2. Descriptive Statistics"
   ]
  },
  {
   "cell_type": "markdown",
   "id": "aac3e47f-8795-4001-8bb4-ae9eef3e3095",
   "metadata": {},
   "source": [
    "## Dataframe description"
   ]
  },
  {
   "cell_type": "code",
   "execution_count": 16,
   "id": "cfa48be6-5594-42fd-a458-3c983ee4b2c5",
   "metadata": {},
   "outputs": [
    {
     "data": {
      "text/html": [
       "<div>\n",
       "<style scoped>\n",
       "    .dataframe tbody tr th:only-of-type {\n",
       "        vertical-align: middle;\n",
       "    }\n",
       "\n",
       "    .dataframe tbody tr th {\n",
       "        vertical-align: top;\n",
       "    }\n",
       "\n",
       "    .dataframe thead th {\n",
       "        text-align: right;\n",
       "    }\n",
       "</style>\n",
       "<table border=\"1\" class=\"dataframe\">\n",
       "  <thead>\n",
       "    <tr style=\"text-align: right;\">\n",
       "      <th></th>\n",
       "      <th>age</th>\n",
       "      <th>quantity</th>\n",
       "      <th>price</th>\n",
       "      <th>invoice_date</th>\n",
       "    </tr>\n",
       "  </thead>\n",
       "  <tbody>\n",
       "    <tr>\n",
       "      <th>count</th>\n",
       "      <td>99457.000000</td>\n",
       "      <td>99457.000000</td>\n",
       "      <td>99457.000000</td>\n",
       "      <td>99457</td>\n",
       "    </tr>\n",
       "    <tr>\n",
       "      <th>mean</th>\n",
       "      <td>43.427089</td>\n",
       "      <td>3.003429</td>\n",
       "      <td>689.256321</td>\n",
       "      <td>2022-02-04 02:46:59.783424</td>\n",
       "    </tr>\n",
       "    <tr>\n",
       "      <th>min</th>\n",
       "      <td>18.000000</td>\n",
       "      <td>1.000000</td>\n",
       "      <td>5.230000</td>\n",
       "      <td>2021-01-01 00:00:00</td>\n",
       "    </tr>\n",
       "    <tr>\n",
       "      <th>25%</th>\n",
       "      <td>30.000000</td>\n",
       "      <td>2.000000</td>\n",
       "      <td>45.450000</td>\n",
       "      <td>2021-07-19 00:00:00</td>\n",
       "    </tr>\n",
       "    <tr>\n",
       "      <th>50%</th>\n",
       "      <td>43.000000</td>\n",
       "      <td>3.000000</td>\n",
       "      <td>203.300000</td>\n",
       "      <td>2022-02-05 00:00:00</td>\n",
       "    </tr>\n",
       "    <tr>\n",
       "      <th>75%</th>\n",
       "      <td>56.000000</td>\n",
       "      <td>4.000000</td>\n",
       "      <td>1200.320000</td>\n",
       "      <td>2022-08-22 00:00:00</td>\n",
       "    </tr>\n",
       "    <tr>\n",
       "      <th>max</th>\n",
       "      <td>69.000000</td>\n",
       "      <td>5.000000</td>\n",
       "      <td>5250.000000</td>\n",
       "      <td>2023-03-08 00:00:00</td>\n",
       "    </tr>\n",
       "    <tr>\n",
       "      <th>std</th>\n",
       "      <td>14.990054</td>\n",
       "      <td>1.413025</td>\n",
       "      <td>941.184567</td>\n",
       "      <td>NaN</td>\n",
       "    </tr>\n",
       "  </tbody>\n",
       "</table>\n",
       "</div>"
      ],
      "text/plain": [
       "                age      quantity         price                invoice_date\n",
       "count  99457.000000  99457.000000  99457.000000                       99457\n",
       "mean      43.427089      3.003429    689.256321  2022-02-04 02:46:59.783424\n",
       "min       18.000000      1.000000      5.230000         2021-01-01 00:00:00\n",
       "25%       30.000000      2.000000     45.450000         2021-07-19 00:00:00\n",
       "50%       43.000000      3.000000    203.300000         2022-02-05 00:00:00\n",
       "75%       56.000000      4.000000   1200.320000         2022-08-22 00:00:00\n",
       "max       69.000000      5.000000   5250.000000         2023-03-08 00:00:00\n",
       "std       14.990054      1.413025    941.184567                         NaN"
      ]
     },
     "execution_count": 16,
     "metadata": {},
     "output_type": "execute_result"
    }
   ],
   "source": [
    "df.describe()"
   ]
  },
  {
   "cell_type": "markdown",
   "id": "bf9227bf-9209-4227-bfdb-dedad76e5c7b",
   "metadata": {},
   "source": [
    "## Ensure that invoice_date datatype is correct"
   ]
  },
  {
   "cell_type": "code",
   "execution_count": 17,
   "id": "bdc3df43-a2aa-4e69-ba0a-92e2b5adf275",
   "metadata": {},
   "outputs": [
    {
     "data": {
      "text/plain": [
       "invoice_no                object\n",
       "customer_id               object\n",
       "gender                    object\n",
       "age                        int64\n",
       "category                  object\n",
       "quantity                   int64\n",
       "price                    float64\n",
       "payment_method            object\n",
       "invoice_date      datetime64[ns]\n",
       "shopping_mall             object\n",
       "dtype: object"
      ]
     },
     "execution_count": 17,
     "metadata": {},
     "output_type": "execute_result"
    }
   ],
   "source": [
    "df.dtypes"
   ]
  },
  {
   "cell_type": "markdown",
   "id": "970a2c27-06b3-45a7-bca6-86c1c8a396e9",
   "metadata": {},
   "source": [
    "This summarizes the key statistics for the numerical columns and ensured that the invoice_date column is in the correct datetime format."
   ]
  },
  {
   "cell_type": "markdown",
   "id": "2d77c906-11cf-479f-8465-63395d95ad33",
   "metadata": {},
   "source": [
    "# 3. Time Series Analysis"
   ]
  },
  {
   "cell_type": "markdown",
   "id": "f8997746-7a31-434e-be21-36ae779ca508",
   "metadata": {},
   "source": [
    "## Rearranging the columns for more readability  "
   ]
  },
  {
   "cell_type": "code",
   "execution_count": 18,
   "id": "10b14d23-b6d0-4ca9-9413-db3201800e9a",
   "metadata": {},
   "outputs": [],
   "source": [
    "col_order = ['invoice_no', 'invoice_date', 'customer_id', 'gender', 'age', 'quantity', 'price', 'category', 'shopping_mall', 'payment_method']\n",
    "df = df[col_order]"
   ]
  },
  {
   "cell_type": "markdown",
   "id": "4681b5c5-311c-4774-a859-66e6abe43059",
   "metadata": {},
   "source": [
    "## Access the initial data"
   ]
  },
  {
   "cell_type": "code",
   "execution_count": 19,
   "id": "68f8b4f0-ffb3-473b-9f26-b0987a185951",
   "metadata": {},
   "outputs": [
    {
     "data": {
      "text/html": [
       "<div>\n",
       "<style scoped>\n",
       "    .dataframe tbody tr th:only-of-type {\n",
       "        vertical-align: middle;\n",
       "    }\n",
       "\n",
       "    .dataframe tbody tr th {\n",
       "        vertical-align: top;\n",
       "    }\n",
       "\n",
       "    .dataframe thead th {\n",
       "        text-align: right;\n",
       "    }\n",
       "</style>\n",
       "<table border=\"1\" class=\"dataframe\">\n",
       "  <thead>\n",
       "    <tr style=\"text-align: right;\">\n",
       "      <th></th>\n",
       "      <th>invoice_no</th>\n",
       "      <th>invoice_date</th>\n",
       "      <th>customer_id</th>\n",
       "      <th>gender</th>\n",
       "      <th>age</th>\n",
       "      <th>quantity</th>\n",
       "      <th>price</th>\n",
       "      <th>category</th>\n",
       "      <th>shopping_mall</th>\n",
       "      <th>payment_method</th>\n",
       "    </tr>\n",
       "  </thead>\n",
       "  <tbody>\n",
       "    <tr>\n",
       "      <th>0</th>\n",
       "      <td>I138884</td>\n",
       "      <td>2022-08-05</td>\n",
       "      <td>C241288</td>\n",
       "      <td>Female</td>\n",
       "      <td>28</td>\n",
       "      <td>5</td>\n",
       "      <td>1500.40</td>\n",
       "      <td>Clothing</td>\n",
       "      <td>Kanyon</td>\n",
       "      <td>Credit Card</td>\n",
       "    </tr>\n",
       "    <tr>\n",
       "      <th>1</th>\n",
       "      <td>I317333</td>\n",
       "      <td>2021-12-12</td>\n",
       "      <td>C111565</td>\n",
       "      <td>Male</td>\n",
       "      <td>21</td>\n",
       "      <td>3</td>\n",
       "      <td>1800.51</td>\n",
       "      <td>Shoes</td>\n",
       "      <td>Forum Istanbul</td>\n",
       "      <td>Debit Card</td>\n",
       "    </tr>\n",
       "    <tr>\n",
       "      <th>2</th>\n",
       "      <td>I127801</td>\n",
       "      <td>2021-11-09</td>\n",
       "      <td>C266599</td>\n",
       "      <td>Male</td>\n",
       "      <td>20</td>\n",
       "      <td>1</td>\n",
       "      <td>300.08</td>\n",
       "      <td>Clothing</td>\n",
       "      <td>Metrocity</td>\n",
       "      <td>Cash</td>\n",
       "    </tr>\n",
       "    <tr>\n",
       "      <th>3</th>\n",
       "      <td>I173702</td>\n",
       "      <td>2021-05-16</td>\n",
       "      <td>C988172</td>\n",
       "      <td>Female</td>\n",
       "      <td>66</td>\n",
       "      <td>5</td>\n",
       "      <td>3000.85</td>\n",
       "      <td>Shoes</td>\n",
       "      <td>Metropol AVM</td>\n",
       "      <td>Credit Card</td>\n",
       "    </tr>\n",
       "    <tr>\n",
       "      <th>4</th>\n",
       "      <td>I337046</td>\n",
       "      <td>2021-10-24</td>\n",
       "      <td>C189076</td>\n",
       "      <td>Female</td>\n",
       "      <td>53</td>\n",
       "      <td>4</td>\n",
       "      <td>60.60</td>\n",
       "      <td>Books</td>\n",
       "      <td>Kanyon</td>\n",
       "      <td>Cash</td>\n",
       "    </tr>\n",
       "  </tbody>\n",
       "</table>\n",
       "</div>"
      ],
      "text/plain": [
       "  invoice_no invoice_date customer_id  gender  age  quantity    price  \\\n",
       "0    I138884   2022-08-05     C241288  Female   28         5  1500.40   \n",
       "1    I317333   2021-12-12     C111565    Male   21         3  1800.51   \n",
       "2    I127801   2021-11-09     C266599    Male   20         1   300.08   \n",
       "3    I173702   2021-05-16     C988172  Female   66         5  3000.85   \n",
       "4    I337046   2021-10-24     C189076  Female   53         4    60.60   \n",
       "\n",
       "   category   shopping_mall payment_method  \n",
       "0  Clothing          Kanyon    Credit Card  \n",
       "1     Shoes  Forum Istanbul     Debit Card  \n",
       "2  Clothing       Metrocity           Cash  \n",
       "3     Shoes    Metropol AVM    Credit Card  \n",
       "4     Books          Kanyon           Cash  "
      ]
     },
     "execution_count": 19,
     "metadata": {},
     "output_type": "execute_result"
    }
   ],
   "source": [
    "df.head()"
   ]
  },
  {
   "cell_type": "markdown",
   "id": "04edf6da-16d4-4f9f-979a-e470a7535b79",
   "metadata": {},
   "source": [
    "## Insert a new column called year_month"
   ]
  },
  {
   "cell_type": "code",
   "execution_count": 20,
   "id": "ee6af16d-37a1-4340-8f33-22986ab2be80",
   "metadata": {},
   "outputs": [
    {
     "data": {
      "text/html": [
       "<div>\n",
       "<style scoped>\n",
       "    .dataframe tbody tr th:only-of-type {\n",
       "        vertical-align: middle;\n",
       "    }\n",
       "\n",
       "    .dataframe tbody tr th {\n",
       "        vertical-align: top;\n",
       "    }\n",
       "\n",
       "    .dataframe thead th {\n",
       "        text-align: right;\n",
       "    }\n",
       "</style>\n",
       "<table border=\"1\" class=\"dataframe\">\n",
       "  <thead>\n",
       "    <tr style=\"text-align: right;\">\n",
       "      <th></th>\n",
       "      <th>invoice_no</th>\n",
       "      <th>invoice_date</th>\n",
       "      <th>year_month</th>\n",
       "      <th>customer_id</th>\n",
       "      <th>gender</th>\n",
       "      <th>age</th>\n",
       "      <th>quantity</th>\n",
       "      <th>price</th>\n",
       "      <th>category</th>\n",
       "      <th>shopping_mall</th>\n",
       "      <th>payment_method</th>\n",
       "    </tr>\n",
       "  </thead>\n",
       "  <tbody>\n",
       "    <tr>\n",
       "      <th>0</th>\n",
       "      <td>I138884</td>\n",
       "      <td>2022-08-05</td>\n",
       "      <td>202208</td>\n",
       "      <td>C241288</td>\n",
       "      <td>Female</td>\n",
       "      <td>28</td>\n",
       "      <td>5</td>\n",
       "      <td>1500.40</td>\n",
       "      <td>Clothing</td>\n",
       "      <td>Kanyon</td>\n",
       "      <td>Credit Card</td>\n",
       "    </tr>\n",
       "    <tr>\n",
       "      <th>1</th>\n",
       "      <td>I317333</td>\n",
       "      <td>2021-12-12</td>\n",
       "      <td>202112</td>\n",
       "      <td>C111565</td>\n",
       "      <td>Male</td>\n",
       "      <td>21</td>\n",
       "      <td>3</td>\n",
       "      <td>1800.51</td>\n",
       "      <td>Shoes</td>\n",
       "      <td>Forum Istanbul</td>\n",
       "      <td>Debit Card</td>\n",
       "    </tr>\n",
       "    <tr>\n",
       "      <th>2</th>\n",
       "      <td>I127801</td>\n",
       "      <td>2021-11-09</td>\n",
       "      <td>202111</td>\n",
       "      <td>C266599</td>\n",
       "      <td>Male</td>\n",
       "      <td>20</td>\n",
       "      <td>1</td>\n",
       "      <td>300.08</td>\n",
       "      <td>Clothing</td>\n",
       "      <td>Metrocity</td>\n",
       "      <td>Cash</td>\n",
       "    </tr>\n",
       "    <tr>\n",
       "      <th>3</th>\n",
       "      <td>I173702</td>\n",
       "      <td>2021-05-16</td>\n",
       "      <td>202105</td>\n",
       "      <td>C988172</td>\n",
       "      <td>Female</td>\n",
       "      <td>66</td>\n",
       "      <td>5</td>\n",
       "      <td>3000.85</td>\n",
       "      <td>Shoes</td>\n",
       "      <td>Metropol AVM</td>\n",
       "      <td>Credit Card</td>\n",
       "    </tr>\n",
       "    <tr>\n",
       "      <th>4</th>\n",
       "      <td>I337046</td>\n",
       "      <td>2021-10-24</td>\n",
       "      <td>202110</td>\n",
       "      <td>C189076</td>\n",
       "      <td>Female</td>\n",
       "      <td>53</td>\n",
       "      <td>4</td>\n",
       "      <td>60.60</td>\n",
       "      <td>Books</td>\n",
       "      <td>Kanyon</td>\n",
       "      <td>Cash</td>\n",
       "    </tr>\n",
       "    <tr>\n",
       "      <th>...</th>\n",
       "      <td>...</td>\n",
       "      <td>...</td>\n",
       "      <td>...</td>\n",
       "      <td>...</td>\n",
       "      <td>...</td>\n",
       "      <td>...</td>\n",
       "      <td>...</td>\n",
       "      <td>...</td>\n",
       "      <td>...</td>\n",
       "      <td>...</td>\n",
       "      <td>...</td>\n",
       "    </tr>\n",
       "    <tr>\n",
       "      <th>99452</th>\n",
       "      <td>I219422</td>\n",
       "      <td>2022-09-21</td>\n",
       "      <td>202209</td>\n",
       "      <td>C441542</td>\n",
       "      <td>Female</td>\n",
       "      <td>45</td>\n",
       "      <td>5</td>\n",
       "      <td>58.65</td>\n",
       "      <td>Souvenir</td>\n",
       "      <td>Kanyon</td>\n",
       "      <td>Credit Card</td>\n",
       "    </tr>\n",
       "    <tr>\n",
       "      <th>99453</th>\n",
       "      <td>I325143</td>\n",
       "      <td>2021-09-22</td>\n",
       "      <td>202109</td>\n",
       "      <td>C569580</td>\n",
       "      <td>Male</td>\n",
       "      <td>27</td>\n",
       "      <td>2</td>\n",
       "      <td>10.46</td>\n",
       "      <td>Food &amp; Beverage</td>\n",
       "      <td>Forum Istanbul</td>\n",
       "      <td>Cash</td>\n",
       "    </tr>\n",
       "    <tr>\n",
       "      <th>99454</th>\n",
       "      <td>I824010</td>\n",
       "      <td>2021-03-28</td>\n",
       "      <td>202103</td>\n",
       "      <td>C103292</td>\n",
       "      <td>Male</td>\n",
       "      <td>63</td>\n",
       "      <td>2</td>\n",
       "      <td>10.46</td>\n",
       "      <td>Food &amp; Beverage</td>\n",
       "      <td>Metrocity</td>\n",
       "      <td>Debit Card</td>\n",
       "    </tr>\n",
       "    <tr>\n",
       "      <th>99455</th>\n",
       "      <td>I702964</td>\n",
       "      <td>2021-03-16</td>\n",
       "      <td>202103</td>\n",
       "      <td>C800631</td>\n",
       "      <td>Male</td>\n",
       "      <td>56</td>\n",
       "      <td>4</td>\n",
       "      <td>4200.00</td>\n",
       "      <td>Technology</td>\n",
       "      <td>Istinye Park</td>\n",
       "      <td>Cash</td>\n",
       "    </tr>\n",
       "    <tr>\n",
       "      <th>99456</th>\n",
       "      <td>I232867</td>\n",
       "      <td>2022-10-15</td>\n",
       "      <td>202210</td>\n",
       "      <td>C273973</td>\n",
       "      <td>Female</td>\n",
       "      <td>36</td>\n",
       "      <td>3</td>\n",
       "      <td>35.19</td>\n",
       "      <td>Souvenir</td>\n",
       "      <td>Mall of Istanbul</td>\n",
       "      <td>Credit Card</td>\n",
       "    </tr>\n",
       "  </tbody>\n",
       "</table>\n",
       "<p>99457 rows × 11 columns</p>\n",
       "</div>"
      ],
      "text/plain": [
       "      invoice_no invoice_date  year_month customer_id  gender  age  quantity  \\\n",
       "0        I138884   2022-08-05      202208     C241288  Female   28         5   \n",
       "1        I317333   2021-12-12      202112     C111565    Male   21         3   \n",
       "2        I127801   2021-11-09      202111     C266599    Male   20         1   \n",
       "3        I173702   2021-05-16      202105     C988172  Female   66         5   \n",
       "4        I337046   2021-10-24      202110     C189076  Female   53         4   \n",
       "...          ...          ...         ...         ...     ...  ...       ...   \n",
       "99452    I219422   2022-09-21      202209     C441542  Female   45         5   \n",
       "99453    I325143   2021-09-22      202109     C569580    Male   27         2   \n",
       "99454    I824010   2021-03-28      202103     C103292    Male   63         2   \n",
       "99455    I702964   2021-03-16      202103     C800631    Male   56         4   \n",
       "99456    I232867   2022-10-15      202210     C273973  Female   36         3   \n",
       "\n",
       "         price         category     shopping_mall payment_method  \n",
       "0      1500.40         Clothing            Kanyon    Credit Card  \n",
       "1      1800.51            Shoes    Forum Istanbul     Debit Card  \n",
       "2       300.08         Clothing         Metrocity           Cash  \n",
       "3      3000.85            Shoes      Metropol AVM    Credit Card  \n",
       "4        60.60            Books            Kanyon           Cash  \n",
       "...        ...              ...               ...            ...  \n",
       "99452    58.65         Souvenir            Kanyon    Credit Card  \n",
       "99453    10.46  Food & Beverage    Forum Istanbul           Cash  \n",
       "99454    10.46  Food & Beverage         Metrocity     Debit Card  \n",
       "99455  4200.00       Technology      Istinye Park           Cash  \n",
       "99456    35.19         Souvenir  Mall of Istanbul    Credit Card  \n",
       "\n",
       "[99457 rows x 11 columns]"
      ]
     },
     "execution_count": 20,
     "metadata": {},
     "output_type": "execute_result"
    }
   ],
   "source": [
    "values = df['invoice_date'].map(lambda col : (col.year)*100 + col.month)\n",
    "df.insert(loc = 2, column = 'year_month', value = values)\n",
    "df"
   ]
  },
  {
   "cell_type": "markdown",
   "id": "282090c5-f79c-41c1-843e-35c7259da3e2",
   "metadata": {},
   "source": [
    "## Insert a new column called amount_spent"
   ]
  },
  {
   "cell_type": "code",
   "execution_count": 21,
   "id": "c3494a16-9e03-428d-b9b6-b82de8c9a85b",
   "metadata": {},
   "outputs": [
    {
     "data": {
      "text/html": [
       "<div>\n",
       "<style scoped>\n",
       "    .dataframe tbody tr th:only-of-type {\n",
       "        vertical-align: middle;\n",
       "    }\n",
       "\n",
       "    .dataframe tbody tr th {\n",
       "        vertical-align: top;\n",
       "    }\n",
       "\n",
       "    .dataframe thead th {\n",
       "        text-align: right;\n",
       "    }\n",
       "</style>\n",
       "<table border=\"1\" class=\"dataframe\">\n",
       "  <thead>\n",
       "    <tr style=\"text-align: right;\">\n",
       "      <th></th>\n",
       "      <th>invoice_no</th>\n",
       "      <th>invoice_date</th>\n",
       "      <th>year_month</th>\n",
       "      <th>customer_id</th>\n",
       "      <th>gender</th>\n",
       "      <th>age</th>\n",
       "      <th>quantity</th>\n",
       "      <th>price</th>\n",
       "      <th>amount_spent</th>\n",
       "      <th>category</th>\n",
       "      <th>shopping_mall</th>\n",
       "      <th>payment_method</th>\n",
       "    </tr>\n",
       "  </thead>\n",
       "  <tbody>\n",
       "    <tr>\n",
       "      <th>0</th>\n",
       "      <td>I138884</td>\n",
       "      <td>2022-08-05</td>\n",
       "      <td>202208</td>\n",
       "      <td>C241288</td>\n",
       "      <td>Female</td>\n",
       "      <td>28</td>\n",
       "      <td>5</td>\n",
       "      <td>1500.40</td>\n",
       "      <td>7502.00</td>\n",
       "      <td>Clothing</td>\n",
       "      <td>Kanyon</td>\n",
       "      <td>Credit Card</td>\n",
       "    </tr>\n",
       "    <tr>\n",
       "      <th>1</th>\n",
       "      <td>I317333</td>\n",
       "      <td>2021-12-12</td>\n",
       "      <td>202112</td>\n",
       "      <td>C111565</td>\n",
       "      <td>Male</td>\n",
       "      <td>21</td>\n",
       "      <td>3</td>\n",
       "      <td>1800.51</td>\n",
       "      <td>5401.53</td>\n",
       "      <td>Shoes</td>\n",
       "      <td>Forum Istanbul</td>\n",
       "      <td>Debit Card</td>\n",
       "    </tr>\n",
       "    <tr>\n",
       "      <th>2</th>\n",
       "      <td>I127801</td>\n",
       "      <td>2021-11-09</td>\n",
       "      <td>202111</td>\n",
       "      <td>C266599</td>\n",
       "      <td>Male</td>\n",
       "      <td>20</td>\n",
       "      <td>1</td>\n",
       "      <td>300.08</td>\n",
       "      <td>300.08</td>\n",
       "      <td>Clothing</td>\n",
       "      <td>Metrocity</td>\n",
       "      <td>Cash</td>\n",
       "    </tr>\n",
       "    <tr>\n",
       "      <th>3</th>\n",
       "      <td>I173702</td>\n",
       "      <td>2021-05-16</td>\n",
       "      <td>202105</td>\n",
       "      <td>C988172</td>\n",
       "      <td>Female</td>\n",
       "      <td>66</td>\n",
       "      <td>5</td>\n",
       "      <td>3000.85</td>\n",
       "      <td>15004.25</td>\n",
       "      <td>Shoes</td>\n",
       "      <td>Metropol AVM</td>\n",
       "      <td>Credit Card</td>\n",
       "    </tr>\n",
       "    <tr>\n",
       "      <th>4</th>\n",
       "      <td>I337046</td>\n",
       "      <td>2021-10-24</td>\n",
       "      <td>202110</td>\n",
       "      <td>C189076</td>\n",
       "      <td>Female</td>\n",
       "      <td>53</td>\n",
       "      <td>4</td>\n",
       "      <td>60.60</td>\n",
       "      <td>242.40</td>\n",
       "      <td>Books</td>\n",
       "      <td>Kanyon</td>\n",
       "      <td>Cash</td>\n",
       "    </tr>\n",
       "    <tr>\n",
       "      <th>...</th>\n",
       "      <td>...</td>\n",
       "      <td>...</td>\n",
       "      <td>...</td>\n",
       "      <td>...</td>\n",
       "      <td>...</td>\n",
       "      <td>...</td>\n",
       "      <td>...</td>\n",
       "      <td>...</td>\n",
       "      <td>...</td>\n",
       "      <td>...</td>\n",
       "      <td>...</td>\n",
       "      <td>...</td>\n",
       "    </tr>\n",
       "    <tr>\n",
       "      <th>99452</th>\n",
       "      <td>I219422</td>\n",
       "      <td>2022-09-21</td>\n",
       "      <td>202209</td>\n",
       "      <td>C441542</td>\n",
       "      <td>Female</td>\n",
       "      <td>45</td>\n",
       "      <td>5</td>\n",
       "      <td>58.65</td>\n",
       "      <td>293.25</td>\n",
       "      <td>Souvenir</td>\n",
       "      <td>Kanyon</td>\n",
       "      <td>Credit Card</td>\n",
       "    </tr>\n",
       "    <tr>\n",
       "      <th>99453</th>\n",
       "      <td>I325143</td>\n",
       "      <td>2021-09-22</td>\n",
       "      <td>202109</td>\n",
       "      <td>C569580</td>\n",
       "      <td>Male</td>\n",
       "      <td>27</td>\n",
       "      <td>2</td>\n",
       "      <td>10.46</td>\n",
       "      <td>20.92</td>\n",
       "      <td>Food &amp; Beverage</td>\n",
       "      <td>Forum Istanbul</td>\n",
       "      <td>Cash</td>\n",
       "    </tr>\n",
       "    <tr>\n",
       "      <th>99454</th>\n",
       "      <td>I824010</td>\n",
       "      <td>2021-03-28</td>\n",
       "      <td>202103</td>\n",
       "      <td>C103292</td>\n",
       "      <td>Male</td>\n",
       "      <td>63</td>\n",
       "      <td>2</td>\n",
       "      <td>10.46</td>\n",
       "      <td>20.92</td>\n",
       "      <td>Food &amp; Beverage</td>\n",
       "      <td>Metrocity</td>\n",
       "      <td>Debit Card</td>\n",
       "    </tr>\n",
       "    <tr>\n",
       "      <th>99455</th>\n",
       "      <td>I702964</td>\n",
       "      <td>2021-03-16</td>\n",
       "      <td>202103</td>\n",
       "      <td>C800631</td>\n",
       "      <td>Male</td>\n",
       "      <td>56</td>\n",
       "      <td>4</td>\n",
       "      <td>4200.00</td>\n",
       "      <td>16800.00</td>\n",
       "      <td>Technology</td>\n",
       "      <td>Istinye Park</td>\n",
       "      <td>Cash</td>\n",
       "    </tr>\n",
       "    <tr>\n",
       "      <th>99456</th>\n",
       "      <td>I232867</td>\n",
       "      <td>2022-10-15</td>\n",
       "      <td>202210</td>\n",
       "      <td>C273973</td>\n",
       "      <td>Female</td>\n",
       "      <td>36</td>\n",
       "      <td>3</td>\n",
       "      <td>35.19</td>\n",
       "      <td>105.57</td>\n",
       "      <td>Souvenir</td>\n",
       "      <td>Mall of Istanbul</td>\n",
       "      <td>Credit Card</td>\n",
       "    </tr>\n",
       "  </tbody>\n",
       "</table>\n",
       "<p>99457 rows × 12 columns</p>\n",
       "</div>"
      ],
      "text/plain": [
       "      invoice_no invoice_date  year_month customer_id  gender  age  quantity  \\\n",
       "0        I138884   2022-08-05      202208     C241288  Female   28         5   \n",
       "1        I317333   2021-12-12      202112     C111565    Male   21         3   \n",
       "2        I127801   2021-11-09      202111     C266599    Male   20         1   \n",
       "3        I173702   2021-05-16      202105     C988172  Female   66         5   \n",
       "4        I337046   2021-10-24      202110     C189076  Female   53         4   \n",
       "...          ...          ...         ...         ...     ...  ...       ...   \n",
       "99452    I219422   2022-09-21      202209     C441542  Female   45         5   \n",
       "99453    I325143   2021-09-22      202109     C569580    Male   27         2   \n",
       "99454    I824010   2021-03-28      202103     C103292    Male   63         2   \n",
       "99455    I702964   2021-03-16      202103     C800631    Male   56         4   \n",
       "99456    I232867   2022-10-15      202210     C273973  Female   36         3   \n",
       "\n",
       "         price  amount_spent         category     shopping_mall payment_method  \n",
       "0      1500.40       7502.00         Clothing            Kanyon    Credit Card  \n",
       "1      1800.51       5401.53            Shoes    Forum Istanbul     Debit Card  \n",
       "2       300.08        300.08         Clothing         Metrocity           Cash  \n",
       "3      3000.85      15004.25            Shoes      Metropol AVM    Credit Card  \n",
       "4        60.60        242.40            Books            Kanyon           Cash  \n",
       "...        ...           ...              ...               ...            ...  \n",
       "99452    58.65        293.25         Souvenir            Kanyon    Credit Card  \n",
       "99453    10.46         20.92  Food & Beverage    Forum Istanbul           Cash  \n",
       "99454    10.46         20.92  Food & Beverage         Metrocity     Debit Card  \n",
       "99455  4200.00      16800.00       Technology      Istinye Park           Cash  \n",
       "99456    35.19        105.57         Souvenir  Mall of Istanbul    Credit Card  \n",
       "\n",
       "[99457 rows x 12 columns]"
      ]
     },
     "execution_count": 21,
     "metadata": {},
     "output_type": "execute_result"
    }
   ],
   "source": [
    "values = df['quantity'] * df['price']\n",
    "df.insert(loc = 8 , column = 'amount_spent', value = values)\n",
    "df"
   ]
  },
  {
   "cell_type": "markdown",
   "id": "3e9869aa-71a7-4551-ad5f-3618596d3922",
   "metadata": {},
   "source": [
    "## Analyze total sales per month "
   ]
  },
  {
   "cell_type": "code",
   "execution_count": 22,
   "id": "81b40987-b7ba-43b1-85f4-d3b23e6a88a4",
   "metadata": {},
   "outputs": [
    {
     "data": {
      "text/plain": [
       "year_month\n",
       "202101    3835\n",
       "202102    3407\n",
       "202103    3813\n",
       "202104    3724\n",
       "202105    3848\n",
       "202106    3783\n",
       "202107    3984\n",
       "202108    3723\n",
       "202109    3670\n",
       "202110    3916\n",
       "Name: amount_spent, dtype: int64"
      ]
     },
     "execution_count": 22,
     "metadata": {},
     "output_type": "execute_result"
    }
   ],
   "source": [
    "sales_per_month = df.groupby('year_month')['amount_spent'].count()\n",
    "sales_per_month.head(10)"
   ]
  },
  {
   "cell_type": "markdown",
   "id": "7b911eef-8cbc-4345-9483-89dc83ac84ef",
   "metadata": {},
   "source": [
    "## Visualise total sales per month"
   ]
  },
  {
   "cell_type": "code",
   "execution_count": 23,
   "id": "e5f393d7-17ae-4592-b5a1-d963d64d2288",
   "metadata": {},
   "outputs": [
    {
     "data": {
      "image/png": "[encoded data removed]",
      "text/plain": [
       "<Figure size 2100x600 with 1 Axes>"
      ]
     },
     "metadata": {},
     "output_type": "display_data"
    }
   ],
   "source": [
    "plt.subplots(figsize = (21,6))\n",
    "\n",
    "plt.xlabel('Year and Month')\n",
    "plt.ylabel('Sales per Month in a Year')\n",
    "plt.title('Total Sales Per Month')\n",
    "plt.xticks(rotation = 15)\n",
    "\n",
    "plt.bar(sales_per_month.index.astype('str'), sales_per_month.values)\n",
    "plt.show()"
   ]
  },
  {
   "cell_type": "markdown",
   "id": "99a6f7cd-33fa-48a5-8d90-21706c957ce6",
   "metadata": {},
   "source": [
    "Based on the analysis of total sales per month, July 2021 (202107) recorded the highest sales, with a total of 3984 sales."
   ]
  },
  {
   "cell_type": "markdown",
   "id": "ce826e48-38af-4381-8ab7-e038ff200094",
   "metadata": {},
   "source": [
    "# 4. Customer and Product Analysis"
   ]
  },
  {
   "cell_type": "markdown",
   "id": "220cf496-f07c-4aaf-adfa-e832a18e4636",
   "metadata": {},
   "source": [
    "## Customer Demographics Analysis"
   ]
  },
  {
   "cell_type": "markdown",
   "id": "5bf9b1bc-de92-493a-9bc3-790326f8f57e",
   "metadata": {},
   "source": [
    "## Analyze purchasing behaviour according to customer's age"
   ]
  },
  {
   "cell_type": "code",
   "execution_count": 24,
   "id": "04379e31-7905-4308-9cfb-5c299ceb4d4b",
   "metadata": {},
   "outputs": [
    {
     "data": {
      "text/plain": [
       "age\n",
       "18    1844\n",
       "19    1936\n",
       "20    1844\n",
       "21    1947\n",
       "22    2051\n",
       "23    1897\n",
       "24    1977\n",
       "25    1863\n",
       "26    1896\n",
       "27    1950\n",
       "Name: amount_spent, dtype: int64"
      ]
     },
     "execution_count": 24,
     "metadata": {},
     "output_type": "execute_result"
    }
   ],
   "source": [
    "age_pb = df.groupby('age')['amount_spent'].count() # age_pb indicates age_purchasing_behaviour\n",
    "age_pb.head(10)"
   ]
  },
  {
   "cell_type": "markdown",
   "id": "697c957b-cb5a-4c49-8e8f-26b6e015f18a",
   "metadata": {},
   "source": [
    "## Visualise based on customer's age purchasing behaviour"
   ]
  },
  {
   "cell_type": "code",
   "execution_count": 25,
   "id": "b268558c-92d8-4cdd-ad33-3db34859bbcd",
   "metadata": {},
   "outputs": [
    {
     "data": {
      "image/png": "[encoded data removed]",
      "text/plain": [
       "<Figure size 2100x600 with 1 Axes>"
      ]
     },
     "metadata": {},
     "output_type": "display_data"
    }
   ],
   "source": [
    "plt.subplots(figsize = (21,6))\n",
    "\n",
    "plt.xlabel(\"Customer's Age\")\n",
    "plt.ylabel('Sales per Age')\n",
    "plt.title(\"Customer's Age Purchasing Behaviour\")\n",
    "\n",
    "plt.plot(age_pb.index.astype('str'), age_pb.values)\n",
    "plt.show()"
   ]
  },
  {
   "cell_type": "markdown",
   "id": "d0187c35-9417-4357-a697-d92acf20b517",
   "metadata": {},
   "source": [
    "Based on the analysis of customer's age purchasing behaviour, age 37 recorded the highest number of sales, with a total of 2057 sales."
   ]
  },
  {
   "cell_type": "markdown",
   "id": "fe25c902-d0fc-4aac-a899-1970bc39568d",
   "metadata": {},
   "source": [
    "## Analyze purchasing behaviour according to customer's gender"
   ]
  },
  {
   "cell_type": "code",
   "execution_count": 26,
   "id": "3e127e10-df0a-4b79-a47f-c2046abe2ce8",
   "metadata": {},
   "outputs": [
    {
     "data": {
      "text/plain": [
       "gender\n",
       "Female    59482\n",
       "Male      39975\n",
       "Name: amount_spent, dtype: int64"
      ]
     },
     "execution_count": 26,
     "metadata": {},
     "output_type": "execute_result"
    }
   ],
   "source": [
    "gender_pb = df.groupby('gender')['amount_spent'].size() # gender_pb indicates gender purchasing behaviour\n",
    "gender_pb"
   ]
  },
  {
   "cell_type": "markdown",
   "id": "dccbbf27-332c-4ae4-9312-92c6bda063a1",
   "metadata": {},
   "source": [
    "## Visualise based on customer's gender purchasing behaviour"
   ]
  },
  {
   "cell_type": "code",
   "execution_count": 27,
   "id": "53cad006-37f5-4ed6-8a2e-64f660c221ee",
   "metadata": {},
   "outputs": [
    {
     "data": {
      "image/png": "[encoded data removed]",
      "text/plain": [
       "<Figure size 640x480 with 1 Axes>"
      ]
     },
     "metadata": {},
     "output_type": "display_data"
    }
   ],
   "source": [
    "gender = ['Female', 'Male']\n",
    "values = gender_pb.values\n",
    "\n",
    "plt.pie(values, labels = gender, shadow = True, explode = (0.05, 0.05), autopct = '%1.1f%%')\n",
    "plt.show()"
   ]
  },
  {
   "cell_type": "markdown",
   "id": "cc1d21a7-695d-4dae-8d31-22dd39ae2cdc",
   "metadata": {},
   "source": [
    "Based on the analysis of customer's gender purchasing behavior, Female customers accounted for 59,482 purchases (59.2%), while Male customers made 39,975 purchases (40.8%)."
   ]
  },
  {
   "cell_type": "markdown",
   "id": "dc255db5-79b9-4d69-8ddf-3f092cd8f50d",
   "metadata": {},
   "source": [
    "## Purchasing Behavior Analysis"
   ]
  },
  {
   "cell_type": "markdown",
   "id": "72ef4225-d9b4-4eb8-96cc-e1f8ed5233af",
   "metadata": {},
   "source": [
    "## Analyze the most frequent purchased product by customers"
   ]
  },
  {
   "cell_type": "code",
   "execution_count": 28,
   "id": "7df568b2-fade-404d-94c3-aeb017a71532",
   "metadata": {},
   "outputs": [
    {
     "data": {
      "text/plain": [
       "category\n",
       "Books               14982\n",
       "Clothing           103558\n",
       "Cosmetics           45465\n",
       "Food & Beverage     44277\n",
       "Shoes               30217\n",
       "Souvenir            14871\n",
       "Technology          15021\n",
       "Toys                30321\n",
       "Name: quantity, dtype: int64"
      ]
     },
     "execution_count": 28,
     "metadata": {},
     "output_type": "execute_result"
    }
   ],
   "source": [
    "total_products = df.groupby('category')['quantity'].sum()\n",
    "total_products"
   ]
  },
  {
   "cell_type": "markdown",
   "id": "2a860439-c560-4425-8b8a-9c8a6bfd2be1",
   "metadata": {},
   "source": [
    "## Visualise the total purchased products "
   ]
  },
  {
   "cell_type": "code",
   "execution_count": 34,
   "id": "d76c186c-04e7-4493-b685-9cb6e1106d04",
   "metadata": {
    "scrolled": true
   },
   "outputs": [
    {
     "data": {
      "image/png": "[encoded data removed]",
      "text/plain": [
       "<Figure size 1500x600 with 1 Axes>"
      ]
     },
     "metadata": {},
     "output_type": "display_data"
    }
   ],
   "source": [
    "plt.subplots(figsize = (15, 6))\n",
    "\n",
    "plt.xlabel('Types of Category')\n",
    "plt.ylabel('Total Purcharsed Products')\n",
    "plt.title('Most Frequently Purchased Products')\n",
    "\n",
    "plt.bar(total_products.index, total_products.values)\n",
    "plt.show()"
   ]
  },
  {
   "cell_type": "markdown",
   "id": "54bfe43c-40b0-4d72-9048-4f212e26d6af",
   "metadata": {},
   "source": [
    "Based on the analysis of most purchased products, the Clothing category recorded the highest number of purchases, with a total of 103,558 products sold."
   ]
  },
  {
   "cell_type": "markdown",
   "id": "39d8e027-808d-4311-8da6-f3827d407009",
   "metadata": {},
   "source": [
    "## Analyze how choice of payment method affects the total amount spent"
   ]
  },
  {
   "cell_type": "code",
   "execution_count": 30,
   "id": "8ac4a635-0935-44a6-9230-3e98907d0f6f",
   "metadata": {},
   "outputs": [
    {
     "data": {
      "text/plain": [
       "payment_method\n",
       "Cash           30705030.98\n",
       "Credit Card    24051476.93\n",
       "Debit Card     13794858.00\n",
       "Name: price, dtype: float64"
      ]
     },
     "execution_count": 30,
     "metadata": {},
     "output_type": "execute_result"
    }
   ],
   "source": [
    "payment_method = df.groupby('payment_method')['price'].sum()\n",
    "payment_method"
   ]
  },
  {
   "cell_type": "markdown",
   "id": "293e8b31-f46a-4a85-a3b3-d9df775e6be4",
   "metadata": {},
   "source": [
    "## Visualise how choice of payment method affects the total amount spent"
   ]
  },
  {
   "cell_type": "code",
   "execution_count": 31,
   "id": "59a9fb9a-6dc3-4dc0-9428-4a7f9d00a1da",
   "metadata": {},
   "outputs": [
    {
     "data": {
      "image/png": "[encoded data removed]",
      "text/plain": [
       "<Figure size 640x480 with 1 Axes>"
      ]
     },
     "metadata": {},
     "output_type": "display_data"
    }
   ],
   "source": [
    "types = ['Cash','Debit Card','Credit Card']\n",
    "values = payment_method.values\n",
    "\n",
    "plt.pie(values, labels = types, shadow = True, explode = (0.05, 0.05, 0.05), autopct = '%1.1f%%')\n",
    "plt.legend()\n",
    "plt.axis('equal')\n",
    "\n",
    "plt.show()"
   ]
  },
  {
   "cell_type": "markdown",
   "id": "76361792-4ccb-40e0-85fc-940af7c3c522",
   "metadata": {},
   "source": [
    "Based on the analysis of payment methods, \n",
    "Cash accounted for 44.8% of the total amount spent with a total of 30,705,030. \n",
    "Debit Card contributed 35.1% of the spending, amounting to 13,794,858 and \n",
    "Credit Card represented 20.1% of the total, with 24,051,476 spent."
   ]
  },
  {
   "cell_type": "markdown",
   "id": "c63da084-6944-45bb-b915-8eaac9dbef91",
   "metadata": {},
   "source": [
    "## Check the correlation between numerical variables in the dataframe"
   ]
  },
  {
   "cell_type": "code",
   "execution_count": 32,
   "id": "1f6a4f87-0279-4e0d-8a3a-61a2daea57f1",
   "metadata": {},
   "outputs": [
    {
     "data": {
      "text/html": [
       "<div>\n",
       "<style scoped>\n",
       "    .dataframe tbody tr th:only-of-type {\n",
       "        vertical-align: middle;\n",
       "    }\n",
       "\n",
       "    .dataframe tbody tr th {\n",
       "        vertical-align: top;\n",
       "    }\n",
       "\n",
       "    .dataframe thead th {\n",
       "        text-align: right;\n",
       "    }\n",
       "</style>\n",
       "<table border=\"1\" class=\"dataframe\">\n",
       "  <thead>\n",
       "    <tr style=\"text-align: right;\">\n",
       "      <th></th>\n",
       "      <th>age</th>\n",
       "      <th>quantity</th>\n",
       "      <th>price</th>\n",
       "    </tr>\n",
       "  </thead>\n",
       "  <tbody>\n",
       "    <tr>\n",
       "      <th>age</th>\n",
       "      <td>1.000000</td>\n",
       "      <td>0.000667</td>\n",
       "      <td>0.001694</td>\n",
       "    </tr>\n",
       "    <tr>\n",
       "      <th>quantity</th>\n",
       "      <td>0.000667</td>\n",
       "      <td>1.000000</td>\n",
       "      <td>0.344880</td>\n",
       "    </tr>\n",
       "    <tr>\n",
       "      <th>price</th>\n",
       "      <td>0.001694</td>\n",
       "      <td>0.344880</td>\n",
       "      <td>1.000000</td>\n",
       "    </tr>\n",
       "  </tbody>\n",
       "</table>\n",
       "</div>"
      ],
      "text/plain": [
       "               age  quantity     price\n",
       "age       1.000000  0.000667  0.001694\n",
       "quantity  0.000667  1.000000  0.344880\n",
       "price     0.001694  0.344880  1.000000"
      ]
     },
     "execution_count": 32,
     "metadata": {},
     "output_type": "execute_result"
    }
   ],
   "source": [
    "numerical_columns = ['age','quantity','price']\n",
    "\n",
    "correlation_matrix = df[numerical_columns].corr()\n",
    "correlation_matrix"
   ]
  },
  {
   "cell_type": "markdown",
   "id": "30012f6f-fadc-42ef-8427-ffdd7dc293c8",
   "metadata": {},
   "source": [
    "## Visualize the correlation between numerical variables"
   ]
  },
  {
   "cell_type": "code",
   "execution_count": 33,
   "id": "fb571159-af7a-4a63-b179-878a48ebc408",
   "metadata": {},
   "outputs": [
    {
     "data": {
      "image/png": "[encoded data removed]",
      "text/plain": [
       "<Figure size 800x400 with 2 Axes>"
      ]
     },
     "metadata": {},
     "output_type": "display_data"
    }
   ],
   "source": [
    "plt.subplots(figsize = (8, 4))\n",
    "\n",
    "plt.title('Correlation Matrix')\n",
    "sns.heatmap(correlation_matrix, annot = True, cmap = \"Greens\", fmt = '.3f')\n",
    "plt.show()"
   ]
  },
  {
   "cell_type": "markdown",
   "id": "9038c071-facd-4d65-8f4f-f9abcf3020c9",
   "metadata": {},
   "source": [
    "# 5. Actionable Recommendations"
   ]
  },
  {
   "cell_type": "markdown",
   "id": "1aaaaa18-c6c6-40af-92a6-b0a91cd61ecf",
   "metadata": {},
   "source": [
    "## 1) Targeting High-Performing Customer Segments"
   ]
  },
  {
   "cell_type": "markdown",
   "id": "1ed32486-90a1-40f3-ba86-415c322535f1",
   "metadata": {},
   "source": [
    "Upon analyzing customer demographics, it was observed that the age group of 37 contributed the highest sales across categories. Gender analysis also revealed that a significant number of female customers are making purchases in categories like \"Clothing\" and \"Cosmetics\".\n"
   ]
  },
  {
   "cell_type": "markdown",
   "id": "6826ad71-b4dd-461a-a33c-28a14e725f05",
   "metadata": {},
   "source": [
    "## Action \n",
    "Create personalized offers for specific age groups such as a special discount for customers aged 37 or gender-based promotions targeting females for clothing or cosmetics. Additionally, targeted advertising campaigns should be employed to reach these segments effectively."
   ]
  },
  {
   "cell_type": "markdown",
   "id": "c3b806e2-345e-48be-a320-22525ae02001",
   "metadata": {},
   "source": [
    "## 2) Optimizing Payment Methods"
   ]
  },
  {
   "cell_type": "markdown",
   "id": "c3afafec-bf7c-409b-a7a4-dae66c600bd5",
   "metadata": {},
   "source": [
    "Payment method analysis indicated that Cash and Debit Cards were frequently used in high-value transactions. Credit cards also showed a noticeable pattern of higher spending, especially among younger customers."
   ]
  },
  {
   "cell_type": "markdown",
   "id": "dd2891b8-bf94-4ba6-bc0e-873ea111c4c2",
   "metadata": {},
   "source": [
    "## Action \n",
    "Offer tailored discounts or incentives for customers who choose specific payment methods, such as offering loyalty points or discounts for those paying with Debit or Credit Cards. For customers paying with Cash, consider loyalty rewards to encourage repeat purchases."
   ]
  },
  {
   "cell_type": "markdown",
   "id": "ca575f64-b9ec-4f41-a426-fe35d4980e3c",
   "metadata": {},
   "source": [
    "## 3) Focusing on Top-Selling Products"
   ]
  },
  {
   "cell_type": "markdown",
   "id": "d78887a5-0e8e-40fc-b4ec-0084fba8b738",
   "metadata": {},
   "source": [
    "Based on the sales data, Clothing emerged as the most frequently purchased product category. High revenue was also observed in the Cosmetics and Food & Beverage categories."
   ]
  },
  {
   "cell_type": "markdown",
   "id": "f9b4045c-4e71-4751-bc28-fe6fd9ac2bda",
   "metadata": {},
   "source": [
    "## Action \n",
    "Increase stock of high-demand products like clothing, shoes, and tech gadgets. Additionally, launch cross-selling opportunities such as bundle deals like buy clothing and get a discount on cosmetics or create targeted promotions like a discount on clothing during seasonal sales."
   ]
  }
 ],
 "metadata": {
  "kernelspec": {
   "display_name": "Python 3 (ipykernel)",
   "language": "python",
   "name": "python3"
  },
  "language_info": {
   "codemirror_mode": {
    "name": "ipython",
    "version": 3
   },
   "file_extension": ".py",
   "mimetype": "text/x-python",
   "name": "python",
   "nbconvert_exporter": "python",
   "pygments_lexer": "ipython3",
   "version": "3.12.1"
  },
  "widgets": {
   "application/vnd.jupyter.widget-state+json": {
    "state": {},
    "version_major": 2,
    "version_minor": 0
   }
  }
 },
 "nbformat": 4,
 "nbformat_minor": 5
}
